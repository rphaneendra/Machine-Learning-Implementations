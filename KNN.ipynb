{
 "cells": [
  {
   "cell_type": "markdown",
   "metadata": {},
   "source": [
    "## Implementing K Nearest Neighbors"
   ]
  },
  {
   "cell_type": "code",
   "execution_count": 52,
   "metadata": {},
   "outputs": [],
   "source": [
    "import numpy as np\n",
    "from collections import Counter\n",
    "import matplotlib.pyplot as plt\n",
    "from matplotlib.colors import ListedColormap\n",
    "from sklearn import neighbors,datasets\n",
    "from sklearn.cross_validation import train_test_split"
   ]
  },
  {
   "cell_type": "code",
   "execution_count": 84,
   "metadata": {
    "scrolled": true
   },
   "outputs": [
    {
     "name": "stdout",
     "output_type": "stream",
     "text": [
      "X shape is (150, 4)\n",
      "y shape is (150,)\n"
     ]
    }
   ],
   "source": [
    "#Loading the Default Iris dataset\n",
    "iris= datasets.load_iris()\n",
    "print('X shape is {}'.format(iris.data.shape))\n",
    "print('y shape is {}'.format(iris.target.shape))\n"
   ]
  },
  {
   "cell_type": "code",
   "execution_count": 53,
   "metadata": {},
   "outputs": [],
   "source": [
    "#Splitting the Dataset into Test and Train sets\n",
    "X = iris.data\n",
    "y = iris.target\n",
    "Xtr,Xtest,ytr,ytest = train_test_split(X,y,test_size=0.33,random_state=18)"
   ]
  },
  {
   "cell_type": "code",
   "execution_count": 88,
   "metadata": {},
   "outputs": [],
   "source": [
    "class NearestNeighbour():\n",
    "    def __init__(self):\n",
    "        pass\n",
    "    \n",
    "    def train(self,Xtr,ytr):\n",
    "        \"\"\"Xtr is N x D where each row is an example whereas y is 1-dimension of size N\"\"\"\n",
    "        #nearest neighbor simply remembers all the classification data\n",
    "        self.Xtr=Xtr\n",
    "        self.ytr=ytr\n",
    "    \n",
    "    def predict(self,Xtest,k=1):\n",
    "        \"\"\"Xtest is N x D where each row is an example for which we wish to predict label for\"\"\"\n",
    "        num_test=Xtest.shape[0]\n",
    "        ypred=np.zeros(num_test,dtype=self.ytr.dtype)\n",
    "        \n",
    "        #Raise an exception if K is very large\n",
    "        if k>len(self.Xtr) or k<=0:\n",
    "            raise ValueError\n",
    "            \n",
    "        #loop over all the test rows\n",
    "        for i in range(num_test):\n",
    "            distances=np.sqrt(np.sum(np.square(Xtr-Xtest[i,:]),axis=1))\n",
    "            k_smallest_indices=distances.argsort()[:k]\n",
    "            target=self.ytr[k_smallest_indices]\n",
    "            ypred[i]=Counter(target).most_common()[0][0]\n",
    "        return ypred"
   ]
  },
  {
   "cell_type": "code",
   "execution_count": 90,
   "metadata": {},
   "outputs": [
    {
     "name": "stdout",
     "output_type": "stream",
     "text": [
      "Accuracy obtained is 0.98\n"
     ]
    }
   ],
   "source": [
    "nn=NearestNeighbour()  # create a Nearest Neighbor classifier class\n",
    "nn.train(Xtr,ytr)      # train the classifier on the training data\n",
    "predicted=nn.predict(Xtest,k=10) # predict labels on the test data\n",
    "print('Accuracy obtained is {}'.format(np.mean(predicted==ytest)))"
   ]
  },
  {
   "cell_type": "markdown",
   "metadata": {},
   "source": [
    "## Parameter Tuning With Cross Validation"
   ]
  },
  {
   "cell_type": "code",
   "execution_count": 93,
   "metadata": {},
   "outputs": [],
   "source": [
    "#Importing the KNN Clasifier\n",
    "from sklearn.neighbors import KNeighborsClassifier\n",
    "from sklearn.model_selection import cross_val_score"
   ]
  },
  {
   "cell_type": "code",
   "execution_count": 133,
   "metadata": {},
   "outputs": [],
   "source": [
    "#creating odd list of K for KNN\n",
    "myList = list(range(50))\n",
    "\n",
    "#subsetting just the odd k\n",
    "neighbors = list(filter(lambda x: x % 2 != 0, myList))\n",
    "#Creating an empty list that will hold cv scores\n",
    "cv_scores=[]\n",
    "\n",
    "#performing 10 fold cross validation\n",
    "for k in neighbors:\n",
    "    knn=KNeighborsClassifier(n_neighbors=k)\n",
    "    scores=cross_val_score(knn,X,y,cv=10,scoring='accuracy')\n",
    "    cv_scores.append(scores.mean())"
   ]
  },
  {
   "cell_type": "code",
   "execution_count": 136,
   "metadata": {
    "scrolled": false
   },
   "outputs": [
    {
     "name": "stdout",
     "output_type": "stream",
     "text": [
      "Optimal_k value is given by 13\n"
     ]
    },
    {
     "data": {
      "image/png": "[encoded data removed]",
      "text/plain": [
       "<matplotlib.figure.Figure at 0x10d5c2d30>"
      ]
     },
     "metadata": {},
     "output_type": "display_data"
    }
   ],
   "source": [
    "#Calculating the Misclassification Error\n",
    "MSE =[1 - x for x in cv_scores]\n",
    "\n",
    "#Finding Optimal K\n",
    "optimal_k=neighbors[MSE.index(min(MSE))]\n",
    "print(\"Optimal_k value is given by {}\".format(optimal_k))\n",
    "\n",
    "#Plotting MSE vs K\n",
    "plt.plot(list(neighbors),MSE)\n",
    "plt.xlabel('Number of Neighbors k')\n",
    "plt.ylabel('Misclassification Error')\n",
    "plt.show()"
   ]
  },
  {
   "cell_type": "markdown",
   "metadata": {},
   "source": [
    "## KNN Decision Boundary"
   ]
  },
  {
   "cell_type": "code",
   "execution_count": 138,
   "metadata": {
    "collapsed": true
   },
   "outputs": [],
   "source": [
    "#Todo"
   ]
  },
  {
   "cell_type": "code",
   "execution_count": 137,
   "metadata": {},
   "outputs": [],
   "source": []
  },
  {
   "cell_type": "code",
   "execution_count": 139,
   "metadata": {},
   "outputs": [],
   "source": []
  },
  {
   "cell_type": "code",
   "execution_count": null,
   "metadata": {
    "collapsed": true
   },
   "outputs": [],
   "source": []
  }
 ],
 "metadata": {
  "kernelspec": {
   "display_name": "Python 3",
   "language": "python",
   "name": "python3"
  },
  "language_info": {
   "codemirror_mode": {
    "name": "ipython",
    "version": 3
   },
   "file_extension": ".py",
   "mimetype": "text/x-python",
   "name": "python",
   "nbconvert_exporter": "python",
   "pygments_lexer": "ipython3",
   "version": "3.6.3"
  }
 },
 "nbformat": 4,
 "nbformat_minor": 2
}
